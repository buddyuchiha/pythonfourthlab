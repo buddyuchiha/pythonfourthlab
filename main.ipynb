{
 "cells": [
  {
   "cell_type": "raw",
   "metadata": {},
   "source": [
    "Импортируем библиотеки"
   ]
  },
  {
   "cell_type": "code",
   "execution_count": 7,
   "metadata": {},
   "outputs": [],
   "source": [
    "import pandas as pd\n",
    "import matplotlib.pyplot as plt\n",
    "import numpy as np \n",
    "from datetime import date"
   ]
  },
  {
   "cell_type": "markdown",
   "metadata": {},
   "source": [
    "Функция для чтения csv файла и создания датафрейма согласно 1-3 пункту."
   ]
  },
  {
   "cell_type": "code",
   "execution_count": 26,
   "metadata": {},
   "outputs": [],
   "source": [
    "def read_and_create_dataframe(file_path):\n",
    "    \"\"\"\n",
    "    Читает файл и записывает данные в таблицу.\n",
    "    \"\"\"\n",
    "    df = pd.read_csv(file_path, header=None)\n",
    "    df.columns = ['Date', 'Day Temperature', 'Day Pressure', 'Day Wind', 'Night Temperature', 'Night Pressure', 'Night Wind']\n",
    "    if not ((df.isnull().sum()).eq(0).all()):\n",
    "        df.dropna(inplace=True, ignore_index=True)\n",
    "    return df"
   ]
  },
  {
   "cell_type": "code",
   "execution_count": 27,
   "metadata": {},
   "outputs": [
    {
     "name": "stdout",
     "output_type": "stream",
     "text": [
      "            Date  Day Temperature Day Pressure Day Wind  Night Temp  \\\n",
      "0     2008-01-10            -20.0          765   В 2м/с       -22.0   \n",
      "1     2008-01-11            -20.0          764        Ш       -24.0   \n",
      "2     2008-01-12            -20.0          762   З 2м/с       -20.0   \n",
      "3     2008-01-13             -9.0          756  ЮЗ 3м/с        -7.0   \n",
      "4     2008-01-14             -6.0          751  ЮЗ 2м/с        -4.0   \n",
      "...          ...              ...          ...      ...         ...   \n",
      "5769  2023-12-03             -6.0          752   В 3м/с        -5.0   \n",
      "5770  2023-12-04              0.0          744   З 4м/с        -4.0   \n",
      "5771  2023-12-05             -7.0          752   З 2м/с        -8.0   \n",
      "5772  2023-12-06             -9.0          761  СЗ 2м/с        -9.0   \n",
      "5773  2023-12-07            -10.0          767  СВ 2м/с       -14.0   \n",
      "\n",
      "      Night Pressure Night Wind  \n",
      "0              765.0     В 2м/с  \n",
      "1              764.0          Ш  \n",
      "2              761.0     З 2м/с  \n",
      "3              754.0    ЮЗ 3м/с  \n",
      "4              752.0    ЮЗ 2м/с  \n",
      "...              ...        ...  \n",
      "5769           749.0     В 3м/с  \n",
      "5770           747.0     З 4м/с  \n",
      "5771           754.0     З 2м/с  \n",
      "5772           763.0    СЗ 2м/с  \n",
      "5773           767.0    СВ 2м/с  \n",
      "\n",
      "[5774 rows x 7 columns]\n"
     ]
    }
   ],
   "source": [
    "df = read_and_create_dataframe(\"dataset.csv\")\n",
    "print(df)"
   ]
  },
  {
   "cell_type": "markdown",
   "metadata": {},
   "source": [
    "Добавление столбика с температурой по Фарингейту"
   ]
  },
  {
   "cell_type": "code",
   "execution_count": 29,
   "metadata": {},
   "outputs": [],
   "source": [
    "def read_and_create_dataframe(file_path):\n",
    "    \"\"\"\n",
    "    Читает файл и записывает данные в таблицу.\n",
    "    \"\"\"\n",
    "    df = pd.read_csv(file_path, header=None)\n",
    "    df.columns = ['Date', 'Day Temperature', 'Day Pressure', 'Day Wind', 'Night Temperature', 'Night Pressure', 'Night Wind']\n",
    "    if not ((df.isnull().sum()).eq(0).all()):\n",
    "        df.dropna(inplace=True, ignore_index=True)\n",
    "    df['Day Temperature Fahrenheit'] = 9/5 * df['Day Temperature'] + 32\n",
    "    df['Night Temp Fahrenheit'] = 9/5 * df['Night Temp'] + 32\n",
    "    return df"
   ]
  },
  {
   "cell_type": "code",
   "execution_count": 30,
   "metadata": {},
   "outputs": [
    {
     "name": "stdout",
     "output_type": "stream",
     "text": [
      "            Date  Day Temperature Day Pressure Day Wind  Night Temp  \\\n",
      "0     2008-01-10            -20.0          765   В 2м/с       -22.0   \n",
      "1     2008-01-11            -20.0          764        Ш       -24.0   \n",
      "2     2008-01-12            -20.0          762   З 2м/с       -20.0   \n",
      "3     2008-01-13             -9.0          756  ЮЗ 3м/с        -7.0   \n",
      "4     2008-01-14             -6.0          751  ЮЗ 2м/с        -4.0   \n",
      "...          ...              ...          ...      ...         ...   \n",
      "5769  2023-12-03             -6.0          752   В 3м/с        -5.0   \n",
      "5770  2023-12-04              0.0          744   З 4м/с        -4.0   \n",
      "5771  2023-12-05             -7.0          752   З 2м/с        -8.0   \n",
      "5772  2023-12-06             -9.0          761  СЗ 2м/с        -9.0   \n",
      "5773  2023-12-07            -10.0          767  СВ 2м/с       -14.0   \n",
      "\n",
      "      Night Pressure Night Wind  Day Temperature Fahrenheit  \\\n",
      "0              765.0     В 2м/с                        -4.0   \n",
      "1              764.0          Ш                        -4.0   \n",
      "2              761.0     З 2м/с                        -4.0   \n",
      "3              754.0    ЮЗ 3м/с                        15.8   \n",
      "4              752.0    ЮЗ 2м/с                        21.2   \n",
      "...              ...        ...                         ...   \n",
      "5769           749.0     В 3м/с                        21.2   \n",
      "5770           747.0     З 4м/с                        32.0   \n",
      "5771           754.0     З 2м/с                        19.4   \n",
      "5772           763.0    СЗ 2м/с                        15.8   \n",
      "5773           767.0    СВ 2м/с                        14.0   \n",
      "\n",
      "      Night Temp Fahrenheit  \n",
      "0                      -7.6  \n",
      "1                     -11.2  \n",
      "2                      -4.0  \n",
      "3                      19.4  \n",
      "4                      24.8  \n",
      "...                     ...  \n",
      "5769                   23.0  \n",
      "5770                   24.8  \n",
      "5771                   17.6  \n",
      "5772                   15.8  \n",
      "5773                    6.8  \n",
      "\n",
      "[5774 rows x 9 columns]\n"
     ]
    }
   ],
   "source": [
    "df = read_and_create_dataframe(\"dataset.csv\")\n",
    "print(df)"
   ]
  },
  {
   "cell_type": "markdown",
   "metadata": {},
   "source": [
    "Вычисление статистической информации для столбцов"
   ]
  },
  {
   "cell_type": "code",
   "execution_count": 51,
   "metadata": {},
   "outputs": [],
   "source": [
    "def get_statistic(dataframe: pd.DataFrame, column_name: str) -> pd.Series:\n",
    "    \"\"\"\n",
    "    Получает статистическую информацию\n",
    "    \"\"\"\n",
    "    if column_name in dataframe.columns:\n",
    "        return dataframe[column_name].describe()"
   ]
  },
  {
   "cell_type": "code",
   "execution_count": 52,
   "metadata": {},
   "outputs": [
    {
     "name": "stdout",
     "output_type": "stream",
     "text": [
      "count    5774.00000\n",
      "mean        9.78282\n",
      "std        14.01747\n",
      "min       -27.00000\n",
      "25%        -2.00000\n",
      "50%        10.00000\n",
      "75%        22.00000\n",
      "max        40.00000\n",
      "Name: Day Temperature, dtype: float64\n"
     ]
    }
   ],
   "source": [
    "print(get_statistic(df, \"Day Temperature\"))"
   ]
  },
  {
   "cell_type": "markdown",
   "metadata": {},
   "source": [
    "Фильтрация температуры"
   ]
  },
  {
   "cell_type": "code",
   "execution_count": 77,
   "metadata": {},
   "outputs": [],
   "source": [
    "def get_filtered_date_info(df: pd.DataFrame, value: float) -> pd.DataFrame:\n",
    "    \"\"\"sorting DataFrame by value\"\"\"\n",
    "    return df.loc[df['Day Temperature'] >= value]"
   ]
  },
  {
   "cell_type": "code",
   "execution_count": 78,
   "metadata": {},
   "outputs": [
    {
     "name": "stdout",
     "output_type": "stream",
     "text": [
      "            Date  Day Temperature Day Pressure Day Wind  Night Temp  \\\n",
      "87    2008-04-06             20.0          753  ЮЗ 2м/с        16.0   \n",
      "88    2008-04-07             20.0          755   Ю 3м/с        16.0   \n",
      "90    2008-04-09             20.0          753   Ю 3м/с        15.0   \n",
      "91    2008-04-10             21.0          752   Ю 2м/с        17.0   \n",
      "92    2008-04-11             22.0          750   Ю 3м/с        14.0   \n",
      "...          ...              ...          ...      ...         ...   \n",
      "5706  2023-09-25             25.0          758   З 3м/с        20.0   \n",
      "5707  2023-09-26             21.0          759   С 2м/с        16.0   \n",
      "5710  2023-09-29             20.0          751  СЗ 2м/с        15.0   \n",
      "5712  2023-10-01             20.0          752   Ю 2м/с        17.0   \n",
      "5713  2023-10-02             21.0          749   Ю 2м/с        15.0   \n",
      "\n",
      "      Night Pressure Night Wind  Day Temperature Fahrenheit  \\\n",
      "87             753.0    ЮЗ 2м/с                        68.0   \n",
      "88             756.0     Ю 3м/с                        68.0   \n",
      "90             753.0     Ю 3м/с                        68.0   \n",
      "91             752.0     Ю 2м/с                        69.8   \n",
      "92             750.0     Ю 3м/с                        71.6   \n",
      "...              ...        ...                         ...   \n",
      "5706           758.0     З 3м/с                        77.0   \n",
      "5707           760.0     С 2м/с                        69.8   \n",
      "5710           752.0    СЗ 2м/с                        68.0   \n",
      "5712           751.0     Ю 2м/с                        68.0   \n",
      "5713           749.0     Ю 2м/с                        69.8   \n",
      "\n",
      "      Night Temp Fahrenheit  \n",
      "87                     60.8  \n",
      "88                     60.8  \n",
      "90                     59.0  \n",
      "91                     62.6  \n",
      "92                     57.2  \n",
      "...                     ...  \n",
      "5706                   68.0  \n",
      "5707                   60.8  \n",
      "5710                   59.0  \n",
      "5712                   62.6  \n",
      "5713                   59.0  \n",
      "\n",
      "[1822 rows x 9 columns]\n"
     ]
    }
   ],
   "source": [
    "print(get_filtered_date_info(df, 20))"
   ]
  },
  {
   "cell_type": "markdown",
   "metadata": {},
   "source": [
    "Фильтрация по дате"
   ]
  },
  {
   "cell_type": "code",
   "execution_count": 81,
   "metadata": {},
   "outputs": [],
   "source": [
    "def get_filtered_by_date_info(df: pd.DataFrame, startdate: str, enddate: str) -> pd.DataFrame:\n",
    "    \"\"\"sorting DataFrame by data1 and data2\"\"\"\n",
    "    df= df.loc[(df['Date'] >= startdate) & (df['Date'] <=enddate)]\n",
    "    return df "
   ]
  },
  {
   "cell_type": "code",
   "execution_count": 84,
   "metadata": {},
   "outputs": [
    {
     "name": "stdout",
     "output_type": "stream",
     "text": [
      "            Date  Day Temperature Day Pressure Day Wind  Night Temp  \\\n",
      "5076  2022-01-01             -4.0          743   Ю 1м/с        -3.0   \n",
      "5077  2022-01-02             -3.0          734   З 2м/с        -8.0   \n",
      "5078  2022-01-03            -11.0          740   З 2м/с       -16.0   \n",
      "5079  2022-01-04            -15.0          741   В 2м/с       -14.0   \n",
      "5080  2022-01-05            -16.0          749   З 1м/с       -19.0   \n",
      "...          ...              ...          ...      ...         ...   \n",
      "5436  2022-12-28             -6.0          753   В 2м/с        -9.0   \n",
      "5437  2022-12-29             -7.0          751   В 1м/с        -7.0   \n",
      "5438  2022-12-30             -6.0          755   В 1м/с        -5.0   \n",
      "5439  2022-12-31             -3.0          751   В 3м/с        -2.0   \n",
      "5440  2023-01-01              0.0          750  ЮЗ 1м/с         0.0   \n",
      "\n",
      "      Night Pressure Night Wind  Day Temperature Fahrenheit  \\\n",
      "5076           740.0     Ю 1м/с                        24.8   \n",
      "5077           739.0     З 2м/с                        26.6   \n",
      "5078           740.0     З 2м/с                        12.2   \n",
      "5079           743.0     В 2м/с                         5.0   \n",
      "5080           748.0     З 1м/с                         3.2   \n",
      "...              ...        ...                         ...   \n",
      "5436           752.0     В 2м/с                        21.2   \n",
      "5437           752.0     В 1м/с                        19.4   \n",
      "5438           755.0     В 1м/с                        21.2   \n",
      "5439           749.0     В 3м/с                        26.6   \n",
      "5440           747.0    ЮЗ 1м/с                        32.0   \n",
      "\n",
      "      Night Temp Fahrenheit  \n",
      "5076                   26.6  \n",
      "5077                   17.6  \n",
      "5078                    3.2  \n",
      "5079                    6.8  \n",
      "5080                   -2.2  \n",
      "...                     ...  \n",
      "5436                   15.8  \n",
      "5437                   19.4  \n",
      "5438                   23.0  \n",
      "5439                   28.4  \n",
      "5440                   32.0  \n",
      "\n",
      "[365 rows x 9 columns]\n"
     ]
    }
   ],
   "source": [
    "print(get_filtered_by_date_info(df, \"2022-01-01\", \"2023-01-01\"))"
   ]
  }
 ],
 "metadata": {
  "kernelspec": {
   "display_name": "Python 3 (ipykernel)",
   "language": "python",
   "name": "python3"
  },
  "language_info": {
   "codemirror_mode": {
    "name": "ipython",
    "version": 3
   },
   "file_extension": ".py",
   "mimetype": "text/x-python",
   "name": "python",
   "nbconvert_exporter": "python",
   "pygments_lexer": "ipython3",
   "version": "3.12.0"
  }
 },
 "nbformat": 4,
 "nbformat_minor": 4
}
