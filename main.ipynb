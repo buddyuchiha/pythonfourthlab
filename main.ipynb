{
 "cells": [
  {
   "cell_type": "raw",
   "metadata": {},
   "source": [
    "Импортируем библиотеки"
   ]
  },
  {
   "cell_type": "code",
   "execution_count": 4,
   "metadata": {},
   "outputs": [],
   "source": [
    "import pandas as pd\n",
    "import matplotlib.pyplot as plt\n",
    "import numpy as np \n",
    "from datetime import date"
   ]
  },
  {
   "cell_type": "markdown",
   "metadata": {},
   "source": [
    "Функция для чтения csv файла и создания датафрейма согласно 1-3 пункту."
   ]
  },
  {
   "cell_type": "code",
   "execution_count": 10,
   "metadata": {},
   "outputs": [],
   "source": [
    "def read_and_create_dataframe(file_path):\n",
    "    \"\"\"\n",
    "    Читает файл и записывает данные в таблицу.\n",
    "    \"\"\"\n",
    "    df = pd.read_csv(file_path, header=None)\n",
    "    df.columns = ['Date', 'Day Temperature', 'Day Pressure', 'Day Wind1', 'Night Temp', 'Night Pressure', 'Night Wind']\n",
    "    if not ((df.isnull().sum()).eq(0).all()):\n",
    "        df.dropna(inplace=True, ignore_index=True)\n",
    "    return df"
   ]
  },
  {
   "cell_type": "code",
   "execution_count": 14,
   "metadata": {},
   "outputs": [
    {
     "name": "stdout",
     "output_type": "stream",
     "text": [
      "            Date  Day Temperature Day Pressure Day Wind1  Night Temp  \\\n",
      "0     2008-01-10            -20.0          765    В 2м/с       -22.0   \n",
      "1     2008-01-11            -20.0          764         Ш       -24.0   \n",
      "2     2008-01-12            -20.0          762    З 2м/с       -20.0   \n",
      "3     2008-01-13             -9.0          756   ЮЗ 3м/с        -7.0   \n",
      "4     2008-01-14             -6.0          751   ЮЗ 2м/с        -4.0   \n",
      "...          ...              ...          ...       ...         ...   \n",
      "5788  2023-12-03             -6.0          752    В 3м/с        -5.0   \n",
      "5789  2023-12-04              0.0          744    З 4м/с        -4.0   \n",
      "5790  2023-12-05             -7.0          752    З 2м/с        -8.0   \n",
      "5791  2023-12-06             -9.0          761   СЗ 2м/с        -9.0   \n",
      "5792  2023-12-07            -10.0          767   СВ 2м/с       -14.0   \n",
      "\n",
      "      Night Pressure Night Wind  \n",
      "0              765.0     В 2м/с  \n",
      "1              764.0          Ш  \n",
      "2              761.0     З 2м/с  \n",
      "3              754.0    ЮЗ 3м/с  \n",
      "4              752.0    ЮЗ 2м/с  \n",
      "...              ...        ...  \n",
      "5788           749.0     В 3м/с  \n",
      "5789           747.0     З 4м/с  \n",
      "5790           754.0     З 2м/с  \n",
      "5791           763.0    СЗ 2м/с  \n",
      "5792           767.0    СВ 2м/с  \n",
      "\n",
      "[5793 rows x 7 columns]\n"
     ]
    }
   ],
   "source": [
    "df = read_and_create_dataframe(\"dataset.csv\")\n",
    "print(df)"
   ]
  },
  {
   "cell_type": "markdown",
   "metadata": {},
   "source": []
  }
 ],
 "metadata": {
  "kernelspec": {
   "display_name": "Python 3 (ipykernel)",
   "language": "python",
   "name": "python3"
  },
  "language_info": {
   "codemirror_mode": {
    "name": "ipython",
    "version": 3
   },
   "file_extension": ".py",
   "mimetype": "text/x-python",
   "name": "python",
   "nbconvert_exporter": "python",
   "pygments_lexer": "ipython3",
   "version": "3.12.0"
  }
 },
 "nbformat": 4,
 "nbformat_minor": 4
}
